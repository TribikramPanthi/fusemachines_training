{
 "cells": [
  {
   "cell_type": "code",
   "execution_count": 1,
   "metadata": {},
   "outputs": [],
   "source": [
    "import pandas as pd\n",
    "import numpy as np\n",
    "import matplotlib.pyplot as plt\n",
    "import cv2"
   ]
  },
  {
   "cell_type": "code",
   "execution_count": 2,
   "metadata": {},
   "outputs": [
    {
     "name": "stdout",
     "output_type": "stream",
     "text": [
      "4.2.0\n"
     ]
    }
   ],
   "source": [
    "print(cv2.__version__)"
   ]
  },
  {
   "cell_type": "code",
   "execution_count": null,
   "metadata": {},
   "outputs": [],
   "source": [
    "img =  cv2.imread('./generated_train/285044.jpeg', cv2.IMREAD_COLOR)\n",
    "img.shape\n",
    "cv2.imshow(\"img\",img)\n",
    "cv2.waitKey(0)\n",
    "cv2.destroyAllWindows()"
   ]
  },
  {
   "cell_type": "code",
   "execution_count": 2,
   "metadata": {},
   "outputs": [
    {
     "data": {
      "text/html": [
       "<div>\n",
       "<style scoped>\n",
       "    .dataframe tbody tr th:only-of-type {\n",
       "        vertical-align: middle;\n",
       "    }\n",
       "\n",
       "    .dataframe tbody tr th {\n",
       "        vertical-align: top;\n",
       "    }\n",
       "\n",
       "    .dataframe thead th {\n",
       "        text-align: right;\n",
       "    }\n",
       "</style>\n",
       "<table border=\"1\" class=\"dataframe\">\n",
       "  <thead>\n",
       "    <tr style=\"text-align: right;\">\n",
       "      <th></th>\n",
       "      <th>Data</th>\n",
       "      <th>Label</th>\n",
       "    </tr>\n",
       "  </thead>\n",
       "  <tbody>\n",
       "    <tr>\n",
       "      <th>9595</th>\n",
       "      <td>285044.jpeg</td>\n",
       "      <td>4</td>\n",
       "    </tr>\n",
       "    <tr>\n",
       "      <th>9596</th>\n",
       "      <td>383736.jpeg</td>\n",
       "      <td>4</td>\n",
       "    </tr>\n",
       "    <tr>\n",
       "      <th>9597</th>\n",
       "      <td>771886.jpeg</td>\n",
       "      <td>4</td>\n",
       "    </tr>\n",
       "    <tr>\n",
       "      <th>9598</th>\n",
       "      <td>298185.jpeg</td>\n",
       "      <td>4</td>\n",
       "    </tr>\n",
       "    <tr>\n",
       "      <th>9599</th>\n",
       "      <td>430460.jpeg</td>\n",
       "      <td>4</td>\n",
       "    </tr>\n",
       "  </tbody>\n",
       "</table>\n",
       "</div>"
      ],
      "text/plain": [
       "             Data  Label\n",
       "9595  285044.jpeg      4\n",
       "9596  383736.jpeg      4\n",
       "9597  771886.jpeg      4\n",
       "9598  298185.jpeg      4\n",
       "9599  430460.jpeg      4"
      ]
     },
     "execution_count": 2,
     "metadata": {},
     "output_type": "execute_result"
    }
   ],
   "source": [
    "df = pd.read_csv(\"testset.csv\")\n",
    "df.tail()"
   ]
  },
  {
   "cell_type": "code",
   "execution_count": 3,
   "metadata": {
    "scrolled": true
   },
   "outputs": [
    {
     "data": {
      "text/plain": [
       "9600"
      ]
     },
     "execution_count": 3,
     "metadata": {},
     "output_type": "execute_result"
    }
   ],
   "source": [
    "df['Label'].value_counts()\n",
    "len(df)"
   ]
  },
  {
   "cell_type": "code",
   "execution_count": 2,
   "metadata": {},
   "outputs": [],
   "source": [
    "\n",
    "img =  cv2.imread('./test_folder/testset/100037.jpeg', cv2.IMREAD_COLOR)\n",
    "cv2.imshow(\"img\",img)\n",
    "cv2.waitKey(0)\n",
    "cv2.destroyAllWindows()"
   ]
  },
  {
   "cell_type": "code",
   "execution_count": 17,
   "metadata": {},
   "outputs": [
    {
     "name": "stdout",
     "output_type": "stream",
     "text": [
      "[252 237 204]\n"
     ]
    }
   ],
   "source": [
    "pixel = img[100, 100]\n",
    "print(pixel)"
   ]
  },
  {
   "cell_type": "code",
   "execution_count": 12,
   "metadata": {},
   "outputs": [
    {
     "data": {
      "text/plain": [
       "NoneType"
      ]
     },
     "execution_count": 12,
     "metadata": {},
     "output_type": "execute_result"
    }
   ],
   "source": [
    "type(img)"
   ]
  },
  {
   "cell_type": "code",
   "execution_count": 7,
   "metadata": {},
   "outputs": [],
   "source": [
    "# import cv2\n",
    "# img =  cv2.imread('demo-hand-written.png')\n",
    "gray = cv2.cvtColor(img,cv2.COLOR_BGR2GRAY)\n",
    "\n",
    "thresh_inv = cv2.threshold(gray, 0, 255, cv2.THRESH_BINARY_INV+cv2.THRESH_OTSU)[1]\n",
    "\n",
    "# Blur the image\n",
    "blur = cv2.GaussianBlur(thresh_inv,(1,1),0)\n",
    "\n",
    "thresh = cv2.threshold(blur, 0, 255, cv2.THRESH_BINARY+cv2.THRESH_OTSU)[1]\n",
    "\n",
    "# find contours\n",
    "contours = cv2.findContours(thresh, cv2.RETR_EXTERNAL, cv2.CHAIN_APPROX_SIMPLE)[0]\n",
    "\n",
    "mask = np.ones(img.shape[:2], dtype=\"uint8\") * 255\n",
    "for c in contours:\n",
    "    # get the bounding rect\n",
    "    x, y, w, h = cv2.boundingRect(c)\n",
    "    if w*h>1000:\n",
    "        cv2.rectangle(mask, (x, y), (x+w, y+h), (0, 0, 255), -1)\n",
    "\n",
    "res_final = cv2.bitwise_and(img, img, mask=cv2.bitwise_not(mask))\n",
    "\n",
    "cv2.imshow(\"boxes\", mask)\n",
    "cv2.imshow(\"final image\", res_final)\n",
    "cv2.waitKey(0)\n",
    "cv2.destroyAllWindows()"
   ]
  },
  {
   "cell_type": "code",
   "execution_count": 18,
   "metadata": {},
   "outputs": [
    {
     "data": {
      "text/plain": [
       "(618, 425, 3)"
      ]
     },
     "execution_count": 18,
     "metadata": {},
     "output_type": "execute_result"
    }
   ],
   "source": [
    "img.shape"
   ]
  },
  {
   "cell_type": "code",
   "execution_count": 44,
   "metadata": {},
   "outputs": [
    {
     "name": "stdout",
     "output_type": "stream",
     "text": [
      "[[0 0 0 ... 0 0 0]\n",
      " [0 0 0 ... 0 0 0]\n",
      " [0 0 0 ... 0 0 0]\n",
      " ...\n",
      " [0 0 0 ... 0 0 0]\n",
      " [0 0 0 ... 0 0 0]\n",
      " [0 0 0 ... 0 0 0]]\n",
      "None\n"
     ]
    }
   ],
   "source": [
    "# [200, 30, 30], [255, 90, 90])\n",
    "lower_red = np.array([0,0,150], dtype = 'uint8')  # BGR-code of your lowest red\n",
    "upper_red = np.array([39,3,255], dtype = 'uint8')   # BGR-code of your highest red \n",
    "mask = cv2.inRange(img, lower_red, upper_red) \n",
    "print(mask)\n",
    "#get all non zero values\n",
    "coord=cv2.findNonZero(mask)\n",
    "print(coord)"
   ]
  },
  {
   "cell_type": "code",
   "execution_count": 40,
   "metadata": {},
   "outputs": [
    {
     "data": {
      "text/plain": [
       "(array([  0,   0,   0, ..., 617, 617, 617]),\n",
       " array([  0,   1,   2, ..., 422, 423, 424]),\n",
       " array([2, 2, 2, ..., 2, 2, 2]))"
      ]
     },
     "execution_count": 40,
     "metadata": {},
     "output_type": "execute_result"
    }
   ],
   "source": [
    "color = (0,0,255)\n",
    "np.where(img ==color)"
   ]
  },
  {
   "cell_type": "code",
   "execution_count": 29,
   "metadata": {},
   "outputs": [
    {
     "name": "stdout",
     "output_type": "stream",
     "text": [
      "(618, 425, 3)\n",
      "original: (618, 425, 3)\n",
      "<class 'numpy.ndarray'>\n",
      "Number of Contours found = 1467\n"
     ]
    },
    {
     "ename": "Exception",
     "evalue": "Contours tuple must have length 2 or 3, otherwise OpenCV changed their cv2.findContours return signature yet again. Refer to OpenCV's documentation in that case",
     "output_type": "error",
     "traceback": [
      "\u001b[0;31m---------------------------------------------------------------------------\u001b[0m",
      "\u001b[0;31mException\u001b[0m                                 Traceback (most recent call last)",
      "\u001b[0;32m<ipython-input-29-87a48618c476>\u001b[0m in \u001b[0;36m<module>\u001b[0;34m\u001b[0m\n\u001b[1;32m     36\u001b[0m \u001b[0;34m\u001b[0m\u001b[0m\n\u001b[1;32m     37\u001b[0m \u001b[0;34m\u001b[0m\u001b[0m\n\u001b[0;32m---> 38\u001b[0;31m \u001b[0mcnts\u001b[0m \u001b[0;34m=\u001b[0m \u001b[0mimutils\u001b[0m\u001b[0;34m.\u001b[0m\u001b[0mgrab_contours\u001b[0m\u001b[0;34m(\u001b[0m\u001b[0mcontours\u001b[0m\u001b[0;34m)\u001b[0m\u001b[0;34m\u001b[0m\u001b[0;34m\u001b[0m\u001b[0m\n\u001b[0m\u001b[1;32m     39\u001b[0m \u001b[0mcnts1\u001b[0m \u001b[0;34m=\u001b[0m \u001b[0mcnts\u001b[0m\u001b[0;34m[\u001b[0m\u001b[0;36m0\u001b[0m\u001b[0;34m]\u001b[0m\u001b[0;34m\u001b[0m\u001b[0;34m\u001b[0m\u001b[0m\n\u001b[1;32m     40\u001b[0m \u001b[0;34m\u001b[0m\u001b[0m\n",
      "\u001b[0;32m~/.local/lib/python3.6/site-packages/imutils/convenience.py\u001b[0m in \u001b[0;36mgrab_contours\u001b[0;34m(cnts)\u001b[0m\n\u001b[1;32m    167\u001b[0m     \u001b[0;31m# signature yet again and I have no idea WTH is going on\u001b[0m\u001b[0;34m\u001b[0m\u001b[0;34m\u001b[0m\u001b[0;34m\u001b[0m\u001b[0m\n\u001b[1;32m    168\u001b[0m     \u001b[0;32melse\u001b[0m\u001b[0;34m:\u001b[0m\u001b[0;34m\u001b[0m\u001b[0;34m\u001b[0m\u001b[0m\n\u001b[0;32m--> 169\u001b[0;31m         raise Exception((\"Contours tuple must have length 2 or 3, \"\n\u001b[0m\u001b[1;32m    170\u001b[0m             \u001b[0;34m\"otherwise OpenCV changed their cv2.findContours return \"\u001b[0m\u001b[0;34m\u001b[0m\u001b[0;34m\u001b[0m\u001b[0m\n\u001b[1;32m    171\u001b[0m             \u001b[0;34m\"signature yet again. Refer to OpenCV's documentation \"\u001b[0m\u001b[0;34m\u001b[0m\u001b[0;34m\u001b[0m\u001b[0m\n",
      "\u001b[0;31mException\u001b[0m: Contours tuple must have length 2 or 3, otherwise OpenCV changed their cv2.findContours return signature yet again. Refer to OpenCV's documentation in that case"
     ]
    }
   ],
   "source": [
    "\n",
    "import cv2 \n",
    "import numpy as np \n",
    "  \n",
    "# Let's load a simple image with 3 black squares \n",
    "image = cv2.imread('./test_folder/testset/100037.jpeg') \n",
    "# cv2.waitKey(0) \n",
    "cv2.imshow('Original', image) \n",
    "cv2.waitKey(0) \n",
    "cv2.destroyAllWindows()\n",
    "  \n",
    "# Grayscale \n",
    "gray = cv2.cvtColor(image, cv2.COLOR_BGR2GRAY) \n",
    "  \n",
    "# Find Canny edges \n",
    "edged = cv2.Canny(gray, 30, 200) \n",
    "cv2.waitKey(0) \n",
    "# print(edged.shape)\n",
    "# print(image[:,:].shape)\n",
    "img2 = np.zeros_like(image)\n",
    "img2[:,:,0] = edged\n",
    "img2[:,:,1] = edged\n",
    "img2[:,:,2] = edged\n",
    "print(img2.shape)\n",
    "print(\"original:\", image.shape)\n",
    "print(type(image))\n",
    "# Finding Contours \n",
    "# Use a copy of the image e.g. edged.copy() \n",
    "# since findContours alters the image \n",
    "contours, hierarchy = cv2.findContours(edged,  \n",
    "    cv2.RETR_EXTERNAL, cv2.CHAIN_APPROX_NONE) \n",
    "# img2 = cv2.bitwise_not(img2)\n",
    "cv2.imshow('Canny Edges After Contouring', img2) \n",
    "cv2.waitKey(0) \n",
    "cv2.destroyAllWindows() \n",
    "print(\"Number of Contours found = \" + str(len(contours))) \n",
    "  \n",
    "    \n",
    "cnts = imutils.grab_contours(contours)\n",
    "cnts1 = cnts[0]\n",
    "\n",
    "# Draw all contours \n",
    "# -1 signifies drawing all contours \n",
    "cv2.drawContours(image, contours, -1, (0, 255, 0), 3) \n",
    "  \n",
    "cv2.imshow('Contours', image) \n",
    "cv2.waitKey(0) \n",
    "cv2.destroyAllWindows() \n",
    "# img1_bg = cv2.bitwise_and(image,edged)\n",
    "img1_bg = np.multiply(image, img2)\n",
    "cv2.imshow('Contour', img1_bg) \n",
    "cv2.waitKey(0) \n",
    "cv2.destroyAllWindows() \n"
   ]
  },
  {
   "cell_type": "code",
   "execution_count": 7,
   "metadata": {},
   "outputs": [],
   "source": [
    "import pandas as pd\n",
    "import numpy as np\n",
    "import cv2\n",
    "import os\n",
    "import imutils\n",
    "df = pd.read_csv(\"test_folder/testset.csv\")\n",
    "# for x in df.tail(1)[\"Data\"]:\n",
    "#     a = os.path.join('./testset', x)\n",
    "#     img = cv2.imread(a)\n",
    "#     cv2.imshow('image', img)\n",
    "#     cv2.waitKey(0) \n",
    "#     cv2.destroyAllWindows()\n",
    "\n",
    "#     image_path = os.path.join('./generated_train',x)\n",
    "#     print(image_path)\n",
    "\n",
    "#     cv2.imwrite(image_path, img) \n",
    "    \n"
   ]
  },
  {
   "cell_type": "code",
   "execution_count": 17,
   "metadata": {},
   "outputs": [
    {
     "data": {
      "text/html": [
       "<div>\n",
       "<style scoped>\n",
       "    .dataframe tbody tr th:only-of-type {\n",
       "        vertical-align: middle;\n",
       "    }\n",
       "\n",
       "    .dataframe tbody tr th {\n",
       "        vertical-align: top;\n",
       "    }\n",
       "\n",
       "    .dataframe thead th {\n",
       "        text-align: right;\n",
       "    }\n",
       "</style>\n",
       "<table border=\"1\" class=\"dataframe\">\n",
       "  <thead>\n",
       "    <tr style=\"text-align: right;\">\n",
       "      <th></th>\n",
       "      <th>Data</th>\n",
       "      <th>Label</th>\n",
       "    </tr>\n",
       "  </thead>\n",
       "  <tbody>\n",
       "    <tr>\n",
       "      <th>0</th>\n",
       "      <td>600795.jpeg</td>\n",
       "      <td>10</td>\n",
       "    </tr>\n",
       "    <tr>\n",
       "      <th>1</th>\n",
       "      <td>627152.jpeg</td>\n",
       "      <td>10</td>\n",
       "    </tr>\n",
       "    <tr>\n",
       "      <th>2</th>\n",
       "      <td>119963.jpeg</td>\n",
       "      <td>10</td>\n",
       "    </tr>\n",
       "    <tr>\n",
       "      <th>3</th>\n",
       "      <td>118264.jpeg</td>\n",
       "      <td>10</td>\n",
       "    </tr>\n",
       "    <tr>\n",
       "      <th>4</th>\n",
       "      <td>199420.jpeg</td>\n",
       "      <td>10</td>\n",
       "    </tr>\n",
       "    <tr>\n",
       "      <th>...</th>\n",
       "      <td>...</td>\n",
       "      <td>...</td>\n",
       "    </tr>\n",
       "    <tr>\n",
       "      <th>9595</th>\n",
       "      <td>285044.jpeg</td>\n",
       "      <td>4</td>\n",
       "    </tr>\n",
       "    <tr>\n",
       "      <th>9596</th>\n",
       "      <td>383736.jpeg</td>\n",
       "      <td>4</td>\n",
       "    </tr>\n",
       "    <tr>\n",
       "      <th>9597</th>\n",
       "      <td>771886.jpeg</td>\n",
       "      <td>4</td>\n",
       "    </tr>\n",
       "    <tr>\n",
       "      <th>9598</th>\n",
       "      <td>298185.jpeg</td>\n",
       "      <td>4</td>\n",
       "    </tr>\n",
       "    <tr>\n",
       "      <th>9599</th>\n",
       "      <td>430460.jpeg</td>\n",
       "      <td>4</td>\n",
       "    </tr>\n",
       "  </tbody>\n",
       "</table>\n",
       "<p>9400 rows × 2 columns</p>\n",
       "</div>"
      ],
      "text/plain": [
       "             Data  Label\n",
       "0     600795.jpeg     10\n",
       "1     627152.jpeg     10\n",
       "2     119963.jpeg     10\n",
       "3     118264.jpeg     10\n",
       "4     199420.jpeg     10\n",
       "...           ...    ...\n",
       "9595  285044.jpeg      4\n",
       "9596  383736.jpeg      4\n",
       "9597  771886.jpeg      4\n",
       "9598  298185.jpeg      4\n",
       "9599  430460.jpeg      4\n",
       "\n",
       "[9400 rows x 2 columns]"
      ]
     },
     "execution_count": 17,
     "metadata": {},
     "output_type": "execute_result"
    }
   ],
   "source": [
    "df.loc[df['Label']!=0]"
   ]
  },
  {
   "cell_type": "code",
   "execution_count": 12,
   "metadata": {},
   "outputs": [
    {
     "data": {
      "text/plain": [
       "9600"
      ]
     },
     "execution_count": 12,
     "metadata": {},
     "output_type": "execute_result"
    }
   ],
   "source": [
    "len(df)"
   ]
  },
  {
   "cell_type": "code",
   "execution_count": 10,
   "metadata": {},
   "outputs": [
    {
     "name": "stdout",
     "output_type": "stream",
     "text": [
      "<class 'numpy.ndarray'>\n"
     ]
    }
   ],
   "source": [
    "#experiment\n",
    "import os\n",
    "import cv2\n",
    "mask3 = cv2.imread(os.path.join('./generated_train','285044.jpeg' ))\n",
    "print(type(mask3))\n",
    "df = pd.read_csv(\"testset.csv\")\n",
    "for a in df.loc[df['Label']==0]['Data']:\n",
    "    img = cv2.imread(os.path.join('./generated_train', a))\n",
    "    mask3 = cv2.bitwise_or(img, mask3, mask = None) \n",
    "#     mask3 = cv2.add(img, mask3) \n",
    "\n",
    "#     print(mask3.shape)\n",
    "cv2.imshow('image', mask3)\n",
    "cv2.waitKey(0) \n",
    "cv2.destroyAllWindows()    \n",
    "   "
   ]
  },
  {
   "cell_type": "code",
   "execution_count": 11,
   "metadata": {},
   "outputs": [
    {
     "data": {
      "text/plain": [
       "True"
      ]
     },
     "execution_count": 11,
     "metadata": {},
     "output_type": "execute_result"
    }
   ],
   "source": [
    "cv2.imwrite(\"invalidclusterfile.jpeg\", mask3)"
   ]
  },
  {
   "cell_type": "code",
   "execution_count": 12,
   "metadata": {},
   "outputs": [
    {
     "name": "stdout",
     "output_type": "stream",
     "text": [
      "Number of Contours found = 1620\n"
     ]
    },
    {
     "ename": "Exception",
     "evalue": "Contours tuple must have length 2 or 3, otherwise OpenCV changed their cv2.findContours return signature yet again. Refer to OpenCV's documentation in that case",
     "output_type": "error",
     "traceback": [
      "\u001b[0;31m---------------------------------------------------------------------------\u001b[0m",
      "\u001b[0;31mException\u001b[0m                                 Traceback (most recent call last)",
      "\u001b[0;32m<ipython-input-12-a66df47cefc0>\u001b[0m in \u001b[0;36m<module>\u001b[0;34m\u001b[0m\n\u001b[1;32m     11\u001b[0m \u001b[0;34m\u001b[0m\u001b[0m\n\u001b[1;32m     12\u001b[0m \u001b[0;34m\u001b[0m\u001b[0m\n\u001b[0;32m---> 13\u001b[0;31m \u001b[0mcnts\u001b[0m \u001b[0;34m=\u001b[0m \u001b[0mimutils\u001b[0m\u001b[0;34m.\u001b[0m\u001b[0mgrab_contours\u001b[0m\u001b[0;34m(\u001b[0m\u001b[0mcontours\u001b[0m\u001b[0;34m)\u001b[0m\u001b[0;34m\u001b[0m\u001b[0;34m\u001b[0m\u001b[0m\n\u001b[0m\u001b[1;32m     14\u001b[0m \u001b[0mcnts1\u001b[0m \u001b[0;34m=\u001b[0m \u001b[0mcnts\u001b[0m\u001b[0;34m[\u001b[0m\u001b[0;36m0\u001b[0m\u001b[0;34m]\u001b[0m\u001b[0;34m\u001b[0m\u001b[0;34m\u001b[0m\u001b[0m\n\u001b[1;32m     15\u001b[0m \u001b[0;34m\u001b[0m\u001b[0m\n",
      "\u001b[0;32m~/.local/lib/python3.6/site-packages/imutils/convenience.py\u001b[0m in \u001b[0;36mgrab_contours\u001b[0;34m(cnts)\u001b[0m\n\u001b[1;32m    167\u001b[0m     \u001b[0;31m# signature yet again and I have no idea WTH is going on\u001b[0m\u001b[0;34m\u001b[0m\u001b[0;34m\u001b[0m\u001b[0;34m\u001b[0m\u001b[0m\n\u001b[1;32m    168\u001b[0m     \u001b[0;32melse\u001b[0m\u001b[0;34m:\u001b[0m\u001b[0;34m\u001b[0m\u001b[0;34m\u001b[0m\u001b[0m\n\u001b[0;32m--> 169\u001b[0;31m         raise Exception((\"Contours tuple must have length 2 or 3, \"\n\u001b[0m\u001b[1;32m    170\u001b[0m             \u001b[0;34m\"otherwise OpenCV changed their cv2.findContours return \"\u001b[0m\u001b[0;34m\u001b[0m\u001b[0;34m\u001b[0m\u001b[0m\n\u001b[1;32m    171\u001b[0m             \u001b[0;34m\"signature yet again. Refer to OpenCV's documentation \"\u001b[0m\u001b[0;34m\u001b[0m\u001b[0;34m\u001b[0m\u001b[0m\n",
      "\u001b[0;31mException\u001b[0m: Contours tuple must have length 2 or 3, otherwise OpenCV changed their cv2.findContours return signature yet again. Refer to OpenCV's documentation in that case"
     ]
    }
   ],
   "source": [
    "gray = cv2.cvtColor(mask3, cv2.COLOR_BGR2GRAY) \n",
    "edged = cv2.Canny(gray, 30, 200) \n",
    "cv2.waitKey(0) \n",
    "contours, hierarchy = cv2.findContours(edged,  \n",
    "    cv2.RETR_EXTERNAL, cv2.CHAIN_APPROX_NONE) \n",
    "# img2 = cv2.bitwise_not(img2)\n",
    "cv2.imshow('Canny Edges After Contouring', edged) \n",
    "cv2.waitKey(0) \n",
    "cv2.destroyAllWindows() \n",
    "print(\"Number of Contours found = \" + str(len(contours))) \n",
    "  \n",
    "    \n",
    "cnts = imutils.grab_contours(contours)\n",
    "cnts1 = cnts[0]\n",
    "\n",
    "# Draw all contours \n",
    "# -1 signifies drawing all contours \n",
    "cv2.drawContours(image, contours, -1, (0, 255, 0), 3) \n",
    "  \n",
    "cv2.imshow('Contours', image) \n",
    "cv2.waitKey(0) \n",
    "cv2.destroyAllWindows() "
   ]
  },
  {
   "cell_type": "code",
   "execution_count": 36,
   "metadata": {},
   "outputs": [
    {
     "name": "stdout",
     "output_type": "stream",
     "text": [
      "hello\n"
     ]
    }
   ],
   "source": [
    "print(\"hello\")"
   ]
  },
  {
   "cell_type": "code",
   "execution_count": 9,
   "metadata": {},
   "outputs": [
    {
     "data": {
      "text/plain": [
       "array([10, 45,  3, 23, 37, 34, 16,  5, 36, 26, 47, 27,  6, 28, 22,  1, 31,\n",
       "       43,  0, 35, 20, 33, 18, 39, 32, 21, 12, 42, 11, 29, 40, 24, 14,  8,\n",
       "        7, 38, 46, 17, 30, 41, 44, 25,  2, 19, 13,  9, 15,  4])"
      ]
     },
     "execution_count": 9,
     "metadata": {},
     "output_type": "execute_result"
    }
   ],
   "source": [
    "df['Label'].unique()"
   ]
  },
  {
   "cell_type": "markdown",
   "metadata": {},
   "source": [
    "Generate new data based on the presence of red color"
   ]
  },
  {
   "cell_type": "code",
   "execution_count": 15,
   "metadata": {},
   "outputs": [],
   "source": [
    "import pandas as pd\n",
    "import numpy as np\n",
    "import cv2\n",
    "import os\n",
    "import imutils\n",
    "df = pd.read_csv(\"test_folder/testset.csv\")\n",
    "def take_input(image):\n",
    "    img = cv2.imread(os.path.join('./test_folder/testset', image))\n",
    "    hsv = cv2.cvtColor(img, cv2.COLOR_BGR2HSV)\n",
    "    lower_range = np.array([0, 70, 50])\n",
    "    upper_range = np.array([10, 255, 255])\n",
    "\n",
    "    mask1 = cv2.inRange(hsv, lower_range, upper_range)\n",
    "    lower_range = np.array([170, 70, 50])\n",
    "    upper_range = np.array([100, 255, 255])\n",
    "\n",
    "    mask2 = cv2.inRange(hsv, lower_range, upper_range)\n",
    "    mask3 = cv2.bitwise_or(mask1, mask2, mask = None) \n",
    "    return img, mask3\n",
    "    #     image_path = os.path.join('./generated_test',a)\n",
    "    #     cv2.imwrite(image_path, mask3)\n",
    "    "
   ]
  },
  {
   "cell_type": "markdown",
   "metadata": {},
   "source": [
    "Let's project these points"
   ]
  },
  {
   "cell_type": "code",
   "execution_count": 42,
   "metadata": {},
   "outputs": [
    {
     "name": "stdout",
     "output_type": "stream",
     "text": [
      "(618, 425)\n"
     ]
    }
   ],
   "source": [
    "\n",
    "import cv2\n",
    "import numpy as np\n",
    "import imutils\n",
    "img = cv2.imread('./test_folder/testset/100262.jpeg')\n",
    "hsv = cv2.cvtColor(img, cv2.COLOR_BGR2HSV)\n",
    "lower_range = np.array([0, 70, 50])\n",
    "upper_range = np.array([10, 255, 255])\n",
    "\n",
    "mask1 = cv2.inRange(hsv, lower_range, upper_range)\n",
    "lower_range = np.array([170, 70, 50])\n",
    "upper_range = np.array([100, 255, 255])\n",
    "\n",
    "mask2 = cv2.inRange(hsv, lower_range, upper_range)\n",
    "cv2.imshow('image', img)\n",
    "cv2.imshow('mask', mask1)\n",
    "cv2.imshow('mask2', mask2)\n",
    "mask3 = cv2.bitwise_or(mask1, mask2, mask = None) \n",
    "# mask3 = np.logical_or(mask, mask2)\n",
    "cv2.imshow('mask3', mask3)\n",
    "print(mask3.shape)\n",
    "\n",
    "# print(\"mask\")\n",
    "# if ((mask==0)|(mask ==1)).all():\n",
    "#     print(\"True\")\n",
    "# else:\n",
    "#     print(\"false\")\n",
    "    \n",
    "# print(mask)\n",
    "\n",
    "while(True):\n",
    "    k = cv2.waitKey(5) & 0xFF\n",
    "    if k == 27:\n",
    "        break\n",
    "\n",
    "cv2.destroyAllWindows()"
   ]
  },
  {
   "cell_type": "code",
   "execution_count": 3,
   "metadata": {
    "scrolled": true
   },
   "outputs": [
    {
     "name": "stdout",
     "output_type": "stream",
     "text": [
      "(618, 425, 3)\n",
      "(618, 425, 3)\n",
      "(618, 425, 3)\n",
      "(618, 425, 3)\n",
      "(618, 425, 3)\n",
      "(618, 425, 3)\n",
      "(618, 425, 3)\n",
      "(618, 425, 3)\n",
      "(618, 425, 3)\n",
      "(618, 425, 3)\n",
      "(618, 425, 3)\n",
      "(618, 425, 3)\n",
      "(618, 425, 3)\n",
      "(618, 425, 3)\n",
      "(618, 425, 3)\n",
      "(618, 425, 3)\n",
      "(618, 425, 3)\n",
      "(618, 425, 3)\n",
      "(618, 425, 3)\n",
      "(618, 425, 3)\n",
      "(618, 425, 3)\n",
      "(618, 425, 3)\n",
      "(618, 425, 3)\n",
      "(618, 425, 3)\n",
      "(618, 425, 3)\n",
      "(618, 425, 3)\n",
      "(618, 425, 3)\n",
      "(618, 425, 3)\n",
      "(618, 425, 3)\n",
      "(618, 425, 3)\n",
      "(618, 425, 3)\n",
      "(618, 425, 3)\n",
      "(618, 425, 3)\n",
      "(618, 425, 3)\n",
      "(618, 425, 3)\n"
     ]
    }
   ],
   "source": [
    "for a in df.head(35)['Data']:\n",
    "    img = cv2.imread(os.path.join('./testset', a))\n",
    "    print(img.shape)"
   ]
  },
  {
   "cell_type": "code",
   "execution_count": 41,
   "metadata": {},
   "outputs": [],
   "source": [
    "cv2.imshow('Thres', img) \n",
    "cv2.waitKey(0) \n",
    "cv2.destroyAllWindows() "
   ]
  },
  {
   "cell_type": "code",
   "execution_count": 34,
   "metadata": {},
   "outputs": [],
   "source": [
    "blurred = cv2.GaussianBlur(x, (11, 11), 0)\n",
    "cv2.imshow('Contours', blurred) \n",
    "cv2.waitKey(0) \n",
    "cv2.destroyAllWindows() \n",
    "\n",
    "thresh = cv2.threshold(blurred, 50, 255, cv2.THRESH_BINARY)[1]\n",
    "cv2.imshow('Thres', thresh) \n",
    "cv2.waitKey(0) \n",
    "cv2.destroyAllWindows() \n"
   ]
  },
  {
   "cell_type": "code",
   "execution_count": 36,
   "metadata": {},
   "outputs": [],
   "source": [
    "# gray = cv2.cvtColor(mask3, cv2.COLOR_BGR2GRAY) \n",
    "edged = cv2.Canny(x, 30, 200) \n",
    "cv2.waitKey(0) \n",
    "contours, hierarchy = cv2.findContours(edged,  \n",
    "    cv2.RETR_EXTERNAL, cv2.CHAIN_APPROX_NONE) \n",
    "# img2 = cv2.bitwise_not(img2)\n",
    "cv2.imshow('Canny Edges After Contouring', edged) \n",
    "cv2.waitKey(0) \n",
    "cv2.destroyAllWindows()"
   ]
  },
  {
   "cell_type": "code",
   "execution_count": 39,
   "metadata": {},
   "outputs": [],
   "source": [
    "m = x"
   ]
  },
  {
   "cell_type": "markdown",
   "metadata": {},
   "source": [
    "Coordinate mapping\n",
    "\n",
    "127,101\n",
    "\n",
    "214,101\n",
    "\n",
    "299,101\n",
    "\n",
    "17,139\n",
    "\n",
    "17,181\n",
    "\n",
    "17, 215\n",
    "\n",
    "14,247\n",
    "\n",
    "14,283\n",
    "\n",
    "13,319\n",
    "\n",
    "13,357\n",
    "\n",
    "13,389\n",
    "\n",
    "15,426\n",
    "\n",
    "16,463\n",
    "\n",
    "20,501\n"
   ]
  },
  {
   "cell_type": "code",
   "execution_count": 117,
   "metadata": {},
   "outputs": [],
   "source": []
  },
  {
   "cell_type": "code",
   "execution_count": 13,
   "metadata": {},
   "outputs": [],
   "source": [
    "# test_img = x\n",
    "\n",
    "\n",
    "def predict(test_img, threshold=100):\n",
    "    count_threshold = 0\n",
    "    label = 0\n",
    "    count = np.count_nonzero(test_img[95:139,17:127]>threshold)\n",
    "    if count > count_threshold:\n",
    "        count_threshold = count\n",
    "        label = 1\n",
    "    count = np.count_nonzero(test_img[139:181, 17:127]>threshold)    \n",
    "    if count > count_threshold:\n",
    "        count_threshold = count\n",
    "        label = 2\n",
    "\n",
    "    count = np.count_nonzero(test_img[181:215,17:127]>threshold)    \n",
    "    if count > count_threshold:\n",
    "        count_threshold = count\n",
    "        label = 3\n",
    "    count = np.count_nonzero(test_img[215:247,17:127]>threshold)    \n",
    "    if count > count_threshold:\n",
    "        count_threshold = count\n",
    "        label = 4\n",
    "    count = np.count_nonzero(test_img[247:283,17:127]>threshold)    \n",
    "    if count > count_threshold:\n",
    "        count_threshold = count\n",
    "        label = 5\n",
    "    count =  np.count_nonzero(test_img[283:319,17:127]>threshold)\n",
    "    if count > count_threshold:\n",
    "        count_threshold = count\n",
    "        label = 6\n",
    "    count =  np.count_nonzero(test_img[319:375,17:127]>threshold) \n",
    "    if count > count_threshold:\n",
    "        count_threshold = count\n",
    "        label = 7\n",
    "    count =  np.count_nonzero(test_img[360:395,17:127]>threshold) \n",
    "    if count > count_threshold:\n",
    "        count_threshold = count\n",
    "        label = 8\n",
    "    count =  np.count_nonzero(test_img[395:426,17:127]>threshold) \n",
    "    if count > count_threshold:\n",
    "        count_threshold = count\n",
    "        label = 9\n",
    "    count =  np.count_nonzero(test_img[426:463,17:127]>threshold)\n",
    "    if count > count_threshold:\n",
    "        count_threshold = count\n",
    "        label = 10\n",
    "    count =  np.count_nonzero(test_img[463:501,17:127]>threshold)\n",
    "    if count > count_threshold:\n",
    "        count_threshold = count\n",
    "        label = 11\n",
    "    count =  np.count_nonzero(test_img[501:542,17:127]>threshold)\n",
    "    if count > count_threshold:\n",
    "        count_threshold = count\n",
    "        label = 12\n",
    "    count =  np.count_nonzero(test_img[95:139,127:214]>threshold)\n",
    "    if count > count_threshold:\n",
    "        count_threshold = count\n",
    "        label = 13\n",
    "    count =  np.count_nonzero(test_img[139:181,127:214]>threshold)\n",
    "    if count > count_threshold:\n",
    "        count_threshold = count\n",
    "        label = 14\n",
    "    count =  np.count_nonzero(test_img[181:215, 127:214]>threshold)\n",
    "    if count > count_threshold:\n",
    "        count_threshold = count\n",
    "        label = 15\n",
    "    count =  np.count_nonzero(test_img[215:247, 127:214]>threshold)\n",
    "    if count > count_threshold:\n",
    "        count_threshold = count\n",
    "        label = 16\n",
    "    count =  np.count_nonzero(test_img[247:283, 127:214]>threshold)\n",
    "    if count > count_threshold:\n",
    "        count_threshold = count\n",
    "        label = 17\n",
    "    count =  np.count_nonzero(test_img[283:319,127:214]>threshold)\n",
    "    if count > count_threshold:\n",
    "        count_threshold = count\n",
    "        label = 18\n",
    "    count =  np.count_nonzero(test_img[319:360,127:214]>threshold)\n",
    "    if count > count_threshold:\n",
    "        count_threshold = count\n",
    "        label = 19\n",
    "    count =  np.count_nonzero(test_img[360:395,127:214]>threshold)\n",
    "    if count > count_threshold:\n",
    "        count_threshold = count\n",
    "        label = 20\n",
    "    count =  np.count_nonzero(test_img[395:426,127:214]>threshold)\n",
    "    if count > count_threshold:\n",
    "        count_threshold = count\n",
    "        label = 21\n",
    "    count =  np.count_nonzero(test_img[426:463,127:214]>threshold)\n",
    "    if count > count_threshold:\n",
    "        count_threshold = count\n",
    "        label = 22\n",
    "    count =  np.count_nonzero(test_img[463:501,127:214]>threshold)\n",
    "    if count > count_threshold:\n",
    "        count_threshold = count\n",
    "        label = 23\n",
    "    count =  np.count_nonzero(test_img[501:542,127:214]>threshold)\n",
    "    if count > count_threshold:\n",
    "        count_threshold = count\n",
    "        label = 24\n",
    "    count =  np.count_nonzero(test_img[95:139,214:300]>threshold)\n",
    "    if count > count_threshold:\n",
    "        count_threshold = count\n",
    "        label = 25\n",
    "    count =  np.count_nonzero(test_img[139:181,214:300]>threshold)\n",
    "    if count > count_threshold:\n",
    "        count_threshold = count\n",
    "        label = 26\n",
    "    count =  np.count_nonzero(test_img[181:215,214:300]>threshold)\n",
    "    if count > count_threshold:\n",
    "        count_threshold = count\n",
    "        label = 27\n",
    "    count =  np.count_nonzero(test_img[215:247,214:300]>threshold)\n",
    "    if count > count_threshold:\n",
    "        count_threshold = count\n",
    "        label = 28\n",
    "    count =  np.count_nonzero(test_img[247:283,214:300]>threshold)\n",
    "    if count > count_threshold:\n",
    "        count_threshold = count\n",
    "        label = 29\n",
    "    count =  np.count_nonzero(test_img[283:319,214:300]>threshold)\n",
    "    if count > count_threshold:\n",
    "        count_threshold = count\n",
    "        label = 30\n",
    "    count =  np.count_nonzero(test_img[319:360,214:300]>threshold)\n",
    "    if count > count_threshold:\n",
    "        count_threshold = count\n",
    "        label = 31\n",
    "    count =  np.count_nonzero(test_img[360:395,214:300]>threshold)\n",
    "    if count > count_threshold:\n",
    "        count_threshold = count\n",
    "        label = 32\n",
    "    count =  np.count_nonzero(test_img[395:426,214:300]>threshold)\n",
    "    if count > count_threshold:\n",
    "        count_threshold = count\n",
    "        label = 33\n",
    "    count =  np.count_nonzero(test_img[426:463,214:300]>threshold)\n",
    "    if count > count_threshold:\n",
    "        count_threshold = count\n",
    "        label = 34\n",
    "    count =  np.count_nonzero(test_img[463:501,214:300]>threshold)\n",
    "    if count > count_threshold:\n",
    "        count_threshold = count\n",
    "        label = 35\n",
    "    count = np.count_nonzero(test_img[501:542,214:300]>threshold)\n",
    "    if count > count_threshold:\n",
    "        count_threshold = count\n",
    "        label = 36\n",
    "    count = np.count_nonzero(test_img[95:139,300:400]>threshold)\n",
    "    if count > count_threshold:\n",
    "        count_threshold = count\n",
    "        label = 37\n",
    "    count = np.count_nonzero(test_img[139:181,300:400]>threshold)\n",
    "    if count > count_threshold:\n",
    "        count_threshold = count\n",
    "        label = 38\n",
    "    count =np.count_nonzero(test_img[181:215,300:400]>threshold)\n",
    "    if count > count_threshold:\n",
    "        count_threshold = count\n",
    "        label = 39\n",
    "    count = np.count_nonzero(test_img[215:247,300:400]>threshold)\n",
    "    if count > count_threshold:\n",
    "        count_threshold = count\n",
    "        label = 40\n",
    "    count = np.count_nonzero(test_img[247:283,300:400]>threshold)\n",
    "    if count > count_threshold:\n",
    "        count_threshold = count\n",
    "        label = 41\n",
    "    count = np.count_nonzero(test_img[283:319,300:400]>threshold)\n",
    "    if count > count_threshold:\n",
    "        count_threshold = count\n",
    "        label = 42\n",
    "    count = np.count_nonzero(test_img[319:360,300:400]>threshold)\n",
    "    if count > count_threshold:\n",
    "        count_threshold = count\n",
    "        label = 43\n",
    "    count = np.count_nonzero(test_img[360:395,300:400]>threshold)\n",
    "    if count > count_threshold:\n",
    "        count_threshold = count\n",
    "        label = 44\n",
    "    count = np.count_nonzero(test_img[395:426,300:400]>threshold)\n",
    "    if count > count_threshold:\n",
    "        count_threshold = count\n",
    "        label = 45\n",
    "    count = np.count_nonzero(test_img[426:463,300:400]>threshold)\n",
    "    if count > count_threshold:\n",
    "        count_threshold = count\n",
    "        label = 46\n",
    "    count = np.count_nonzero(test_img[463:501,300:400]>threshold)\n",
    "    if count > count_threshold:\n",
    "        count_threshold = count\n",
    "        label = 47\n",
    "    return label    \n"
   ]
  },
  {
   "cell_type": "code",
   "execution_count": 132,
   "metadata": {},
   "outputs": [
    {
     "data": {
      "text/html": [
       "<div>\n",
       "<style scoped>\n",
       "    .dataframe tbody tr th:only-of-type {\n",
       "        vertical-align: middle;\n",
       "    }\n",
       "\n",
       "    .dataframe tbody tr th {\n",
       "        vertical-align: top;\n",
       "    }\n",
       "\n",
       "    .dataframe thead th {\n",
       "        text-align: right;\n",
       "    }\n",
       "</style>\n",
       "<table border=\"1\" class=\"dataframe\">\n",
       "  <thead>\n",
       "    <tr style=\"text-align: right;\">\n",
       "      <th></th>\n",
       "      <th>Data</th>\n",
       "      <th>Label</th>\n",
       "    </tr>\n",
       "  </thead>\n",
       "  <tbody>\n",
       "    <tr>\n",
       "      <th>0</th>\n",
       "      <td>632755.jpeg</td>\n",
       "      <td>10</td>\n",
       "    </tr>\n",
       "    <tr>\n",
       "      <th>1</th>\n",
       "      <td>496855.jpeg</td>\n",
       "      <td>10</td>\n",
       "    </tr>\n",
       "    <tr>\n",
       "      <th>2</th>\n",
       "      <td>155390.jpeg</td>\n",
       "      <td>10</td>\n",
       "    </tr>\n",
       "    <tr>\n",
       "      <th>3</th>\n",
       "      <td>265013.jpeg</td>\n",
       "      <td>10</td>\n",
       "    </tr>\n",
       "    <tr>\n",
       "      <th>4</th>\n",
       "      <td>496360.jpeg</td>\n",
       "      <td>10</td>\n",
       "    </tr>\n",
       "    <tr>\n",
       "      <th>...</th>\n",
       "      <td>...</td>\n",
       "      <td>...</td>\n",
       "    </tr>\n",
       "    <tr>\n",
       "      <th>95</th>\n",
       "      <td>728422.jpeg</td>\n",
       "      <td>45</td>\n",
       "    </tr>\n",
       "    <tr>\n",
       "      <th>96</th>\n",
       "      <td>867837.jpeg</td>\n",
       "      <td>45</td>\n",
       "    </tr>\n",
       "    <tr>\n",
       "      <th>97</th>\n",
       "      <td>258941.jpeg</td>\n",
       "      <td>45</td>\n",
       "    </tr>\n",
       "    <tr>\n",
       "      <th>98</th>\n",
       "      <td>274666.jpeg</td>\n",
       "      <td>45</td>\n",
       "    </tr>\n",
       "    <tr>\n",
       "      <th>99</th>\n",
       "      <td>679357.jpeg</td>\n",
       "      <td>45</td>\n",
       "    </tr>\n",
       "  </tbody>\n",
       "</table>\n",
       "<p>100 rows × 2 columns</p>\n",
       "</div>"
      ],
      "text/plain": [
       "           Data  Label\n",
       "0   632755.jpeg     10\n",
       "1   496855.jpeg     10\n",
       "2   155390.jpeg     10\n",
       "3   265013.jpeg     10\n",
       "4   496360.jpeg     10\n",
       "..          ...    ...\n",
       "95  728422.jpeg     45\n",
       "96  867837.jpeg     45\n",
       "97  258941.jpeg     45\n",
       "98  274666.jpeg     45\n",
       "99  679357.jpeg     45\n",
       "\n",
       "[100 rows x 2 columns]"
      ]
     },
     "execution_count": 132,
     "metadata": {},
     "output_type": "execute_result"
    }
   ],
   "source": [
    "df.head(100)"
   ]
  },
  {
   "cell_type": "code",
   "execution_count": 135,
   "metadata": {},
   "outputs": [],
   "source": [
    "def display(img, mask):\n",
    "    cv2.imshow('Original', img) \n",
    "    cv2.imshow('Star', mask[:,:]) \n",
    "    cv2.waitKey(0) \n",
    "    cv2.destroyAllWindows() "
   ]
  },
  {
   "cell_type": "code",
   "execution_count": 120,
   "metadata": {},
   "outputs": [
    {
     "data": {
      "text/plain": [
       "45"
      ]
     },
     "execution_count": 120,
     "metadata": {},
     "output_type": "execute_result"
    }
   ],
   "source": [
    "img, mask=take_input('274666.jpeg')\n",
    "predict(mask[:,:])"
   ]
  },
  {
   "cell_type": "code",
   "execution_count": 137,
   "metadata": {},
   "outputs": [
    {
     "ename": "KeyboardInterrupt",
     "evalue": "",
     "output_type": "error",
     "traceback": [
      "\u001b[0;31m---------------------------------------------------------------------------\u001b[0m",
      "\u001b[0;31mKeyboardInterrupt\u001b[0m                         Traceback (most recent call last)",
      "\u001b[0;32m<ipython-input-137-5abf1969f21c>\u001b[0m in \u001b[0;36m<module>\u001b[0;34m\u001b[0m\n\u001b[0;32m----> 1\u001b[0;31m \u001b[0mdisplay\u001b[0m\u001b[0;34m(\u001b[0m\u001b[0mimg\u001b[0m\u001b[0;34m,\u001b[0m \u001b[0mmask\u001b[0m\u001b[0;34m)\u001b[0m\u001b[0;34m\u001b[0m\u001b[0;34m\u001b[0m\u001b[0m\n\u001b[0m",
      "\u001b[0;32m<ipython-input-135-bfb468c359a4>\u001b[0m in \u001b[0;36mdisplay\u001b[0;34m(img, mask)\u001b[0m\n\u001b[1;32m      2\u001b[0m     \u001b[0mcv2\u001b[0m\u001b[0;34m.\u001b[0m\u001b[0mimshow\u001b[0m\u001b[0;34m(\u001b[0m\u001b[0;34m'Original'\u001b[0m\u001b[0;34m,\u001b[0m \u001b[0mimg\u001b[0m\u001b[0;34m)\u001b[0m\u001b[0;34m\u001b[0m\u001b[0;34m\u001b[0m\u001b[0m\n\u001b[1;32m      3\u001b[0m     \u001b[0mcv2\u001b[0m\u001b[0;34m.\u001b[0m\u001b[0mimshow\u001b[0m\u001b[0;34m(\u001b[0m\u001b[0;34m'Star'\u001b[0m\u001b[0;34m,\u001b[0m \u001b[0mmask\u001b[0m\u001b[0;34m[\u001b[0m\u001b[0;34m:\u001b[0m\u001b[0;34m,\u001b[0m\u001b[0;34m:\u001b[0m\u001b[0;34m]\u001b[0m\u001b[0;34m)\u001b[0m\u001b[0;34m\u001b[0m\u001b[0;34m\u001b[0m\u001b[0m\n\u001b[0;32m----> 4\u001b[0;31m     \u001b[0mcv2\u001b[0m\u001b[0;34m.\u001b[0m\u001b[0mwaitKey\u001b[0m\u001b[0;34m(\u001b[0m\u001b[0;36m0\u001b[0m\u001b[0;34m)\u001b[0m\u001b[0;34m\u001b[0m\u001b[0;34m\u001b[0m\u001b[0m\n\u001b[0m\u001b[1;32m      5\u001b[0m     \u001b[0mcv2\u001b[0m\u001b[0;34m.\u001b[0m\u001b[0mdestroyAllWindows\u001b[0m\u001b[0;34m(\u001b[0m\u001b[0;34m)\u001b[0m\u001b[0;34m\u001b[0m\u001b[0;34m\u001b[0m\u001b[0m\n",
      "\u001b[0;31mKeyboardInterrupt\u001b[0m: "
     ]
    }
   ],
   "source": [
    "img, mask=take_input('274666.jpeg')\n",
    "predict(mask[:,:])\n",
    "display(img, mask)\n"
   ]
  },
  {
   "cell_type": "code",
   "execution_count": 16,
   "metadata": {},
   "outputs": [],
   "source": [
    "df = pd.read_csv('test_folder/testset.csv')\n",
    "\n",
    "listt = []\n",
    "for imgg in df['Data']:\n",
    "    img, mask = take_input(imgg)\n",
    "    x = predict(mask[:,:])\n",
    "    listt.append(x)\n",
    "\n",
    "df2= df.copy()\n",
    "df2['Predicted']=listt"
   ]
  },
  {
   "cell_type": "code",
   "execution_count": 17,
   "metadata": {},
   "outputs": [
    {
     "name": "stdout",
     "output_type": "stream",
     "text": [
      "              precision    recall  f1-score   support\n",
      "\n",
      "           0       0.03      0.37      0.05        30\n",
      "           1       0.93      0.79      0.85        33\n",
      "           2       1.00      0.88      0.93        16\n",
      "           3       1.00      0.92      0.96        13\n",
      "           4       0.98      0.79      0.87        56\n",
      "           5       0.86      1.00      0.92         6\n",
      "           6       0.96      0.87      0.91        30\n",
      "           7       0.75      0.87      0.81        63\n",
      "           8       1.00      0.49      0.66        45\n",
      "           9       1.00      0.82      0.90        68\n",
      "          10       0.84      0.89      0.86        18\n",
      "          11       0.99      0.90      0.94        94\n",
      "          12       1.00      0.85      0.92        88\n",
      "          13       1.00      0.88      0.94        92\n",
      "          14       1.00      0.86      0.92        14\n",
      "          15       1.00      0.86      0.92        50\n",
      "          16       1.00      0.78      0.88        59\n",
      "          17       0.92      0.86      0.89        14\n",
      "          18       1.00      0.85      0.92        65\n",
      "          19       1.00      0.78      0.88        74\n",
      "          20       0.99      0.87      0.93        86\n",
      "          21       1.00      0.82      0.90        22\n",
      "          22       1.00      0.86      0.93        81\n",
      "          23       0.97      0.80      0.88        71\n",
      "          24       1.00      0.85      0.92        82\n",
      "          25       1.00      0.84      0.91        76\n",
      "          26       1.00      0.85      0.92        47\n",
      "          27       1.00      0.87      0.93        83\n",
      "          28       1.00      0.86      0.92       100\n",
      "          29       0.98      0.92      0.95        64\n",
      "          30       1.00      0.94      0.97        86\n",
      "          31       1.00      0.89      0.94        56\n",
      "          32       1.00      0.91      0.95        86\n",
      "          33       0.98      0.82      0.89        55\n",
      "          34       0.98      0.84      0.91        57\n",
      "          35       1.00      0.71      0.83        14\n",
      "          36       1.00      0.92      0.96        62\n",
      "          37       1.00      0.81      0.90        58\n",
      "          38       0.99      0.81      0.89        89\n",
      "          39       0.93      0.88      0.90        16\n",
      "          40       0.97      0.96      0.96        67\n",
      "          41       0.97      0.86      0.91        42\n",
      "          42       0.78      0.70      0.74        10\n",
      "          43       1.00      0.80      0.89        45\n",
      "          44       1.00      0.79      0.88        43\n",
      "          45       1.00      0.84      0.91        99\n",
      "          46       1.00      0.83      0.91        24\n",
      "          47       0.98      0.90      0.94        60\n",
      "\n",
      "    accuracy                           0.84      2609\n",
      "   macro avg       0.95      0.83      0.88      2609\n",
      "weighted avg       0.97      0.84      0.90      2609\n",
      "\n",
      "[[11  2  0 ...  0  0  1]\n",
      " [ 7 26  0 ...  0  0  0]\n",
      " [ 2  0 14 ...  0  0  0]\n",
      " ...\n",
      " [16  0  0 ... 83  0  0]\n",
      " [ 4  0  0 ...  0 20  0]\n",
      " [ 6  0  0 ...  0  0 54]]\n"
     ]
    }
   ],
   "source": [
    "from sklearn.metrics import classification_report\n",
    "from sklearn.metrics import confusion_matrix\n",
    "print(classification_report(df2['Label'].values, df2['Predicted'].values))\n",
    "print(confusion_matrix(df2['Label'].values, df2['Predicted'].values))"
   ]
  },
  {
   "cell_type": "code",
   "execution_count": 18,
   "metadata": {
    "scrolled": false
   },
   "outputs": [
    {
     "data": {
      "text/plain": [
       "<matplotlib.axes._subplots.AxesSubplot at 0x7f66a7741390>"
      ]
     },
     "execution_count": 18,
     "metadata": {},
     "output_type": "execute_result"
    },
    {
     "data": {
      "image/png": "[encoded data removed]",
      "text/plain": [
       "<Figure size 1440x504 with 1 Axes>"
      ]
     },
     "metadata": {
      "needs_background": "light"
     },
     "output_type": "display_data"
    }
   ],
   "source": [
    "import pandas as pd\n",
    "# df1 = pd.read_csv('testset.csv')\n",
    "import matplotlib.pyplot as plt\n",
    "plt.figure(figsize =(20, 7))\n",
    "df['Label'].value_counts().plot(kind = 'bar')"
   ]
  },
  {
   "cell_type": "code",
   "execution_count": 7,
   "metadata": {
    "scrolled": true
   },
   "outputs": [
    {
     "data": {
      "text/html": [
       "<div>\n",
       "<style scoped>\n",
       "    .dataframe tbody tr th:only-of-type {\n",
       "        vertical-align: middle;\n",
       "    }\n",
       "\n",
       "    .dataframe tbody tr th {\n",
       "        vertical-align: top;\n",
       "    }\n",
       "\n",
       "    .dataframe thead th {\n",
       "        text-align: right;\n",
       "    }\n",
       "</style>\n",
       "<table border=\"1\" class=\"dataframe\">\n",
       "  <thead>\n",
       "    <tr style=\"text-align: right;\">\n",
       "      <th></th>\n",
       "      <th>Data</th>\n",
       "      <th>Label</th>\n",
       "    </tr>\n",
       "  </thead>\n",
       "  <tbody>\n",
       "    <tr>\n",
       "      <th>3600</th>\n",
       "      <td>525230.jpeg</td>\n",
       "      <td>0</td>\n",
       "    </tr>\n",
       "    <tr>\n",
       "      <th>3601</th>\n",
       "      <td>281668.jpeg</td>\n",
       "      <td>0</td>\n",
       "    </tr>\n",
       "    <tr>\n",
       "      <th>3602</th>\n",
       "      <td>183565.jpeg</td>\n",
       "      <td>0</td>\n",
       "    </tr>\n",
       "    <tr>\n",
       "      <th>3603</th>\n",
       "      <td>607250.jpeg</td>\n",
       "      <td>0</td>\n",
       "    </tr>\n",
       "    <tr>\n",
       "      <th>3604</th>\n",
       "      <td>629213.jpeg</td>\n",
       "      <td>0</td>\n",
       "    </tr>\n",
       "    <tr>\n",
       "      <th>...</th>\n",
       "      <td>...</td>\n",
       "      <td>...</td>\n",
       "    </tr>\n",
       "    <tr>\n",
       "      <th>3795</th>\n",
       "      <td>587975.jpeg</td>\n",
       "      <td>0</td>\n",
       "    </tr>\n",
       "    <tr>\n",
       "      <th>3796</th>\n",
       "      <td>420732.jpeg</td>\n",
       "      <td>0</td>\n",
       "    </tr>\n",
       "    <tr>\n",
       "      <th>3797</th>\n",
       "      <td>271342.jpeg</td>\n",
       "      <td>0</td>\n",
       "    </tr>\n",
       "    <tr>\n",
       "      <th>3798</th>\n",
       "      <td>427837.jpeg</td>\n",
       "      <td>0</td>\n",
       "    </tr>\n",
       "    <tr>\n",
       "      <th>3799</th>\n",
       "      <td>255361.jpeg</td>\n",
       "      <td>0</td>\n",
       "    </tr>\n",
       "  </tbody>\n",
       "</table>\n",
       "<p>200 rows × 2 columns</p>\n",
       "</div>"
      ],
      "text/plain": [
       "             Data  Label\n",
       "3600  525230.jpeg      0\n",
       "3601  281668.jpeg      0\n",
       "3602  183565.jpeg      0\n",
       "3603  607250.jpeg      0\n",
       "3604  629213.jpeg      0\n",
       "...           ...    ...\n",
       "3795  587975.jpeg      0\n",
       "3796  420732.jpeg      0\n",
       "3797  271342.jpeg      0\n",
       "3798  427837.jpeg      0\n",
       "3799  255361.jpeg      0\n",
       "\n",
       "[200 rows x 2 columns]"
      ]
     },
     "execution_count": 7,
     "metadata": {},
     "output_type": "execute_result"
    }
   ],
   "source": [
    "df1.loc[df1['Label']==0]"
   ]
  },
  {
   "cell_type": "code",
   "execution_count": null,
   "metadata": {},
   "outputs": [],
   "source": []
  },
  {
   "cell_type": "code",
   "execution_count": null,
   "metadata": {},
   "outputs": [],
   "source": []
  },
  {
   "cell_type": "code",
   "execution_count": null,
   "metadata": {},
   "outputs": [],
   "source": []
  },
  {
   "cell_type": "code",
   "execution_count": null,
   "metadata": {},
   "outputs": [],
   "source": []
  },
  {
   "cell_type": "code",
   "execution_count": null,
   "metadata": {},
   "outputs": [],
   "source": []
  },
  {
   "cell_type": "code",
   "execution_count": null,
   "metadata": {},
   "outputs": [],
   "source": []
  },
  {
   "cell_type": "code",
   "execution_count": null,
   "metadata": {},
   "outputs": [],
   "source": []
  },
  {
   "cell_type": "code",
   "execution_count": null,
   "metadata": {},
   "outputs": [],
   "source": []
  },
  {
   "cell_type": "code",
   "execution_count": null,
   "metadata": {},
   "outputs": [],
   "source": []
  },
  {
   "cell_type": "code",
   "execution_count": null,
   "metadata": {},
   "outputs": [],
   "source": []
  },
  {
   "cell_type": "code",
   "execution_count": null,
   "metadata": {},
   "outputs": [],
   "source": []
  },
  {
   "cell_type": "code",
   "execution_count": null,
   "metadata": {},
   "outputs": [],
   "source": []
  },
  {
   "cell_type": "code",
   "execution_count": null,
   "metadata": {},
   "outputs": [],
   "source": []
  },
  {
   "cell_type": "code",
   "execution_count": null,
   "metadata": {},
   "outputs": [],
   "source": []
  },
  {
   "cell_type": "code",
   "execution_count": 19,
   "metadata": {},
   "outputs": [],
   "source": [
    "import pandas as pd\n",
    "import numpy as np\n",
    "import cv2\n",
    "import os\n",
    "import imutils\n",
    "df = pd.read_csv(\"test_folder/testset.csv\")\n",
    "def take_input(image):\n",
    "    img = cv2.imread(os.path.join('./test_folder/testset', image))\n",
    "    hsv = cv2.cvtColor(img, cv2.COLOR_BGR2HSV)\n",
    "    lower_range = np.array([0, 70, 50])\n",
    "    upper_range = np.array([10, 255, 255])\n",
    "\n",
    "    mask1 = cv2.inRange(hsv, lower_range, upper_range)\n",
    "    lower_range = np.array([170, 70, 50])\n",
    "    upper_range = np.array([100, 255, 255])\n",
    "\n",
    "    mask2 = cv2.inRange(hsv, lower_range, upper_range)\n",
    "    mask3 = cv2.bitwise_or(mask1, mask2, mask = None) \n",
    "    return img, mask3"
   ]
  },
  {
   "cell_type": "code",
   "execution_count": 20,
   "metadata": {},
   "outputs": [],
   "source": [
    "# test_img = x\n",
    "\n",
    "\n",
    "def predict(test_img, threshold=100):\n",
    "    count_threshold = 0\n",
    "    label = 0\n",
    "    count = np.count_nonzero(test_img[95:139,17:127]>threshold)\n",
    "    if count > count_threshold:\n",
    "        count_threshold = count\n",
    "        label = 1\n",
    "    count = np.count_nonzero(test_img[139:181, 17:127]>threshold)    \n",
    "    if count > count_threshold:\n",
    "        count_threshold = count\n",
    "        label = 2\n",
    "\n",
    "    count = np.count_nonzero(test_img[181:215,17:127]>threshold)    \n",
    "    if count > count_threshold:\n",
    "        count_threshold = count\n",
    "        label = 3\n",
    "    count = np.count_nonzero(test_img[215:247,17:127]>threshold)    \n",
    "    if count > count_threshold:\n",
    "        count_threshold = count\n",
    "        label = 4\n",
    "    count = np.count_nonzero(test_img[247:283,17:127]>threshold)    \n",
    "    if count > count_threshold:\n",
    "        count_threshold = count\n",
    "        label = 5\n",
    "    count =  np.count_nonzero(test_img[283:319,17:127]>threshold)\n",
    "    if count > count_threshold:\n",
    "        count_threshold = count\n",
    "        label = 6\n",
    "    count =  np.count_nonzero(test_img[319:375,17:127]>threshold) \n",
    "    if count > count_threshold:\n",
    "        count_threshold = count\n",
    "        label = 7\n",
    "    count =  np.count_nonzero(test_img[360:395,17:127]>threshold) \n",
    "    if count > count_threshold:\n",
    "        count_threshold = count\n",
    "        label = 8\n",
    "    count =  np.count_nonzero(test_img[395:426,17:127]>threshold) \n",
    "    if count > count_threshold:\n",
    "        count_threshold = count\n",
    "        label = 9\n",
    "    count =  np.count_nonzero(test_img[426:463,17:127]>threshold)\n",
    "    if count > count_threshold:\n",
    "        count_threshold = count\n",
    "        label = 10\n",
    "    count =  np.count_nonzero(test_img[463:501,17:127]>threshold)\n",
    "    if count > count_threshold:\n",
    "        count_threshold = count\n",
    "        label = 11\n",
    "    count =  np.count_nonzero(test_img[501:542,17:127]>threshold)\n",
    "    if count > count_threshold:\n",
    "        count_threshold = count\n",
    "        label = 12\n",
    "    count =  np.count_nonzero(test_img[95:139,127:214]>threshold)\n",
    "    if count > count_threshold:\n",
    "        count_threshold = count\n",
    "        label = 13\n",
    "    count =  np.count_nonzero(test_img[139:181,127:214]>threshold)\n",
    "    if count > count_threshold:\n",
    "        count_threshold = count\n",
    "        label = 14\n",
    "    count =  np.count_nonzero(test_img[181:215, 127:214]>threshold)\n",
    "    if count > count_threshold:\n",
    "        count_threshold = count\n",
    "        label = 15\n",
    "    count =  np.count_nonzero(test_img[215:247, 127:214]>threshold)\n",
    "    if count > count_threshold:\n",
    "        count_threshold = count\n",
    "        label = 16\n",
    "    count =  np.count_nonzero(test_img[247:283, 127:214]>threshold)\n",
    "    if count > count_threshold:\n",
    "        count_threshold = count\n",
    "        label = 17\n",
    "    count =  np.count_nonzero(test_img[283:319,127:214]>threshold)\n",
    "    if count > count_threshold:\n",
    "        count_threshold = count\n",
    "        label = 18\n",
    "    count =  np.count_nonzero(test_img[319:360,127:214]>threshold)\n",
    "    if count > count_threshold:\n",
    "        count_threshold = count\n",
    "        label = 19\n",
    "    count =  np.count_nonzero(test_img[360:395,127:214]>threshold)\n",
    "    if count > count_threshold:\n",
    "        count_threshold = count\n",
    "        label = 20\n",
    "    count =  np.count_nonzero(test_img[395:426,127:214]>threshold)\n",
    "    if count > count_threshold:\n",
    "        count_threshold = count\n",
    "        label = 21\n",
    "    count =  np.count_nonzero(test_img[426:463,127:214]>threshold)\n",
    "    if count > count_threshold:\n",
    "        count_threshold = count\n",
    "        label = 22\n",
    "    count =  np.count_nonzero(test_img[463:501,127:214]>threshold)\n",
    "    if count > count_threshold:\n",
    "        count_threshold = count\n",
    "        label = 23\n",
    "    count =  np.count_nonzero(test_img[501:542,127:214]>threshold)\n",
    "    if count > count_threshold:\n",
    "        count_threshold = count\n",
    "        label = 24\n",
    "    count =  np.count_nonzero(test_img[95:139,214:300]>threshold)\n",
    "    if count > count_threshold:\n",
    "        count_threshold = count\n",
    "        label = 25\n",
    "    count =  np.count_nonzero(test_img[139:181,214:300]>threshold)\n",
    "    if count > count_threshold:\n",
    "        count_threshold = count\n",
    "        label = 26\n",
    "    count =  np.count_nonzero(test_img[181:215,214:300]>threshold)\n",
    "    if count > count_threshold:\n",
    "        count_threshold = count\n",
    "        label = 27\n",
    "    count =  np.count_nonzero(test_img[215:247,214:300]>threshold)\n",
    "    if count > count_threshold:\n",
    "        count_threshold = count\n",
    "        label = 28\n",
    "    count =  np.count_nonzero(test_img[247:283,214:300]>threshold)\n",
    "    if count > count_threshold:\n",
    "        count_threshold = count\n",
    "        label = 29\n",
    "    count =  np.count_nonzero(test_img[283:319,214:300]>threshold)\n",
    "    if count > count_threshold:\n",
    "        count_threshold = count\n",
    "        label = 30\n",
    "    count =  np.count_nonzero(test_img[319:360,214:300]>threshold)\n",
    "    if count > count_threshold:\n",
    "        count_threshold = count\n",
    "        label = 31\n",
    "    count =  np.count_nonzero(test_img[360:395,214:300]>threshold)\n",
    "    if count > count_threshold:\n",
    "        count_threshold = count\n",
    "        label = 32\n",
    "    count =  np.count_nonzero(test_img[395:426,214:300]>threshold)\n",
    "    if count > count_threshold:\n",
    "        count_threshold = count\n",
    "        label = 33\n",
    "    count =  np.count_nonzero(test_img[426:463,214:300]>threshold)\n",
    "    if count > count_threshold:\n",
    "        count_threshold = count\n",
    "        label = 34\n",
    "    count =  np.count_nonzero(test_img[463:501,214:300]>threshold)\n",
    "    if count > count_threshold:\n",
    "        count_threshold = count\n",
    "        label = 35\n",
    "    count = np.count_nonzero(test_img[501:542,214:300]>threshold)\n",
    "    if count > count_threshold:\n",
    "        count_threshold = count\n",
    "        label = 36\n",
    "    count = np.count_nonzero(test_img[95:139,300:400]>threshold)\n",
    "    if count > count_threshold:\n",
    "        count_threshold = count\n",
    "        label = 37\n",
    "    count = np.count_nonzero(test_img[139:181,300:400]>threshold)\n",
    "    if count > count_threshold:\n",
    "        count_threshold = count\n",
    "        label = 38\n",
    "    count =np.count_nonzero(test_img[181:215,300:400]>threshold)\n",
    "    if count > count_threshold:\n",
    "        count_threshold = count\n",
    "        label = 39\n",
    "    count = np.count_nonzero(test_img[215:247,300:400]>threshold)\n",
    "    if count > count_threshold:\n",
    "        count_threshold = count\n",
    "        label = 40\n",
    "    count = np.count_nonzero(test_img[247:283,300:400]>threshold)\n",
    "    if count > count_threshold:\n",
    "        count_threshold = count\n",
    "        label = 41\n",
    "    count = np.count_nonzero(test_img[283:319,300:400]>threshold)\n",
    "    if count > count_threshold:\n",
    "        count_threshold = count\n",
    "        label = 42\n",
    "    count = np.count_nonzero(test_img[319:360,300:400]>threshold)\n",
    "    if count > count_threshold:\n",
    "        count_threshold = count\n",
    "        label = 43\n",
    "    count = np.count_nonzero(test_img[360:395,300:400]>threshold)\n",
    "    if count > count_threshold:\n",
    "        count_threshold = count\n",
    "        label = 44\n",
    "    count = np.count_nonzero(test_img[395:426,300:400]>threshold)\n",
    "    if count > count_threshold:\n",
    "        count_threshold = count\n",
    "        label = 45\n",
    "    count = np.count_nonzero(test_img[426:463,300:400]>threshold)\n",
    "    if count > count_threshold:\n",
    "        count_threshold = count\n",
    "        label = 46\n",
    "    count = np.count_nonzero(test_img[463:501,300:400]>threshold)\n",
    "    if count > count_threshold:\n",
    "        count_threshold = count\n",
    "        label = 47\n",
    "    return label    \n"
   ]
  },
  {
   "cell_type": "code",
   "execution_count": 21,
   "metadata": {},
   "outputs": [],
   "source": [
    "def display(img, mask):\n",
    "    cv2.imshow('Original', img) \n",
    "    cv2.imshow('Star', mask[:,:]) \n",
    "    cv2.waitKey(0) \n",
    "    cv2.destroyAllWindows() "
   ]
  },
  {
   "cell_type": "code",
   "execution_count": 22,
   "metadata": {},
   "outputs": [
    {
     "data": {
      "text/html": [
       "<div>\n",
       "<style scoped>\n",
       "    .dataframe tbody tr th:only-of-type {\n",
       "        vertical-align: middle;\n",
       "    }\n",
       "\n",
       "    .dataframe tbody tr th {\n",
       "        vertical-align: top;\n",
       "    }\n",
       "\n",
       "    .dataframe thead th {\n",
       "        text-align: right;\n",
       "    }\n",
       "</style>\n",
       "<table border=\"1\" class=\"dataframe\">\n",
       "  <thead>\n",
       "    <tr style=\"text-align: right;\">\n",
       "      <th></th>\n",
       "      <th>Data</th>\n",
       "      <th>Label</th>\n",
       "    </tr>\n",
       "  </thead>\n",
       "  <tbody>\n",
       "    <tr>\n",
       "      <th>0</th>\n",
       "      <td>632755.jpeg</td>\n",
       "      <td>10</td>\n",
       "    </tr>\n",
       "    <tr>\n",
       "      <th>1</th>\n",
       "      <td>496855.jpeg</td>\n",
       "      <td>10</td>\n",
       "    </tr>\n",
       "    <tr>\n",
       "      <th>2</th>\n",
       "      <td>155390.jpeg</td>\n",
       "      <td>10</td>\n",
       "    </tr>\n",
       "    <tr>\n",
       "      <th>3</th>\n",
       "      <td>265013.jpeg</td>\n",
       "      <td>10</td>\n",
       "    </tr>\n",
       "    <tr>\n",
       "      <th>4</th>\n",
       "      <td>496360.jpeg</td>\n",
       "      <td>10</td>\n",
       "    </tr>\n",
       "  </tbody>\n",
       "</table>\n",
       "</div>"
      ],
      "text/plain": [
       "          Data  Label\n",
       "0  632755.jpeg     10\n",
       "1  496855.jpeg     10\n",
       "2  155390.jpeg     10\n",
       "3  265013.jpeg     10\n",
       "4  496360.jpeg     10"
      ]
     },
     "execution_count": 22,
     "metadata": {},
     "output_type": "execute_result"
    }
   ],
   "source": [
    "df.head()"
   ]
  },
  {
   "cell_type": "code",
   "execution_count": 24,
   "metadata": {},
   "outputs": [
    {
     "name": "stdout",
     "output_type": "stream",
     "text": [
      "Predicted class 45\n"
     ]
    }
   ],
   "source": [
    "img, mask=take_input('274666.jpeg')\n",
    "result = predict(mask[:,:])\n",
    "print(\"Predicted class\", result)\n",
    "display(img, mask)"
   ]
  },
  {
   "cell_type": "code",
   "execution_count": null,
   "metadata": {},
   "outputs": [],
   "source": []
  }
 ],
 "metadata": {
  "kernelspec": {
   "display_name": "Python 3",
   "language": "python",
   "name": "python3"
  },
  "language_info": {
   "codemirror_mode": {
    "name": "ipython",
    "version": 3
   },
   "file_extension": ".py",
   "mimetype": "text/x-python",
   "name": "python",
   "nbconvert_exporter": "python",
   "pygments_lexer": "ipython3",
   "version": "3.6.8"
  }
 },
 "nbformat": 4,
 "nbformat_minor": 4
}
